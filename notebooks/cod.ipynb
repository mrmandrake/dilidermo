{
 "cells": [
  {
   "cell_type": "code",
   "execution_count": 1,
   "metadata": {},
   "outputs": [],
   "source": [
    "import numpy as np\n",
    "# import pandas as pd\n",
    "import cv2\n",
    "import os\n",
    "import glob\n",
    "import sys\n",
    "import itertools\n",
    "import matplotlib.pyplot as plt\n",
    "from scipy import ndimage\n",
    "# from skimage.segmentation import active_contour\n"
   ]
  },
  {
   "cell_type": "code",
   "execution_count": 3,
   "metadata": {},
   "outputs": [],
   "source": [
    "img=cv2.imread(\"./img/V4_2017/01/03/00001927_00003817/00013004.bmp\")"
   ]
  },
  {
   "cell_type": "code",
   "execution_count": 4,
   "metadata": {},
   "outputs": [],
   "source": [
    "cv2.imshow('immagine',img)\n",
    "image = img.copy()"
   ]
  },
  {
   "cell_type": "code",
   "execution_count": 5,
   "metadata": {},
   "outputs": [],
   "source": [
    "image = cv2.GaussianBlur(image, (5, 5), 0)\n",
    "hsv = cv2.cvtColor(image, cv2.COLOR_BGR2HSV)\n",
    "clahe = cv2.createCLAHE(clipLimit=3.0, tileGridSize=(8, 8))\n",
    "hsv[:, :, 2] = clahe.apply(hsv[:, :, 2])\n",
    "image = cv2.cvtColor(hsv, cv2.COLOR_HSV2BGR)\n",
    "kernel = np.ones((11, 11), np.uint8)\n",
    "for i in range(image.shape[-1]):\n",
    "    image[:, :, i] = cv2.morphologyEx(\n",
    "    image[:, :, i],\n",
    "    cv2.MORPH_CLOSE, kernel)\n",
    "hsv_image = cv2.cvtColor(image, cv2.COLOR_BGR2HSV)\n",
    "cv2.imshow('hsv', hsv_image)"
   ]
  },
  {
   "cell_type": "code",
   "execution_count": 6,
   "metadata": {},
   "outputs": [],
   "source": [
    "new_img=img.copy()\n",
    "gray= cv2.cvtColor(new_img, cv2.COLOR_RGB2GRAY)\n",
    "for i in range (0,5):\n",
    "    new_img = cv2.medianBlur(gray, 27)\n",
    "cv2.imshow('Blurred', new_img)"
   ]
  },
  {
   "cell_type": "code",
   "execution_count": null,
   "metadata": {},
   "outputs": [],
   "source": [
    "ret2,thresh2 = cv2.threshold(new_img,127,255,cv2.THRESH_BINARY_INV)\n",
    "ret, thresh = cv2.threshold(thresh2, 170, 180, 0)\n",
    "contours, hierarchy = cv2.findContours(thresh, cv2.RETR_EXTERNAL , cv2.CHAIN_APPROX_SIMPLE)\n",
    "cv2.drawContours(new_img, contours,-1,(0,255,253),thickness=3)\n",
    "cv2.imshow('Snake', new_img)"
   ]
  },
  {
   "cell_type": "code",
   "execution_count": null,
   "metadata": {},
   "outputs": [],
   "source": [
    "\n",
    "# Isolate largest contour\n",
    "contour_sizes = [(cv2.contourArea(contour), contour) for contour in contours]\n",
    "biggest_contour = max(contour_sizes, key=lambda x: x[0])[1]\n",
    "mask = np.zeros(img.shape, np.uint8)\n",
    "cv2.drawContours(mask, [biggest_contour], -1, 255, -1)"
   ]
  },
  {
   "cell_type": "code",
   "execution_count": 0,
   "metadata": {},
   "outputs": [],
   "source": [
    "cv2.imshow('mask', mask)\n"
   ]
  },
  {
   "cell_type": "code",
   "execution_count": null,
   "metadata": {},
   "outputs": [],
   "source": []
  }
 ],
 "metadata": {
  "file_extension": ".py",
  "kernelspec": {
   "display_name": "Python 3",
   "language": "python",
   "name": "python3"
  },
  "language_info": {
   "codemirror_mode": {
    "name": "ipython",
    "version": 3
   },
   "file_extension": ".py",
   "mimetype": "text/x-python",
   "name": "python",
   "nbconvert_exporter": "python",
   "pygments_lexer": "ipython3",
   "version": "3.7.5"
  },
  "mimetype": "text/x-python",
  "name": "python",
  "npconvert_exporter": "python",
  "pygments_lexer": "ipython3",
  "varInspector": {
   "cols": {
    "lenName": 16,
    "lenType": 16,
    "lenVar": 40
   },
   "kernels_config": {
    "python": {
     "delete_cmd_postfix": "",
     "delete_cmd_prefix": "del ",
     "library": "var_list.py",
     "varRefreshCmd": "print(var_dic_list())"
    },
    "r": {
     "delete_cmd_postfix": ") ",
     "delete_cmd_prefix": "rm(",
     "library": "var_list.r",
     "varRefreshCmd": "cat(var_dic_list()) "
    }
   },
   "position": {
    "height": "599px",
    "left": "1019px",
    "right": "20px",
    "top": "120px",
    "width": "350px"
   },
   "types_to_exclude": [
    "module",
    "function",
    "builtin_function_or_method",
    "instance",
    "_Feature"
   ],
   "window_display": false
  },
  "version": 3
 },
 "nbformat": 4,
 "nbformat_minor": 2
}