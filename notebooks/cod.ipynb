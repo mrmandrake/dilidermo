{
 "cells": [
  {
   "cell_type": "code",
   "execution_count": 2,
   "metadata": {},
   "outputs": [
    {
     "ename": "ModuleNotFoundError",
     "evalue": "No module named 'skimage'",
     "output_type": "error",
     "traceback": [
      "\u001b[0;31m---------------------------------------------------------------------------\u001b[0m",
      "\u001b[0;31mModuleNotFoundError\u001b[0m                       Traceback (most recent call last)",
      "\u001b[0;32m<ipython-input-2-327e74bf95d9>\u001b[0m in \u001b[0;36m<module>\u001b[0;34m\u001b[0m\n\u001b[1;32m      8\u001b[0m \u001b[0;32mimport\u001b[0m \u001b[0mmatplotlib\u001b[0m\u001b[0;34m.\u001b[0m\u001b[0mpyplot\u001b[0m \u001b[0;32mas\u001b[0m \u001b[0mplt\u001b[0m\u001b[0;34m\u001b[0m\u001b[0;34m\u001b[0m\u001b[0m\n\u001b[1;32m      9\u001b[0m \u001b[0;32mfrom\u001b[0m \u001b[0mscipy\u001b[0m \u001b[0;32mimport\u001b[0m \u001b[0mndimage\u001b[0m\u001b[0;34m\u001b[0m\u001b[0;34m\u001b[0m\u001b[0m\n\u001b[0;32m---> 10\u001b[0;31m \u001b[0;32mfrom\u001b[0m \u001b[0mskimage\u001b[0m\u001b[0;34m.\u001b[0m\u001b[0msegmentation\u001b[0m \u001b[0;32mimport\u001b[0m \u001b[0mactive_contour\u001b[0m\u001b[0;34m\u001b[0m\u001b[0;34m\u001b[0m\u001b[0m\n\u001b[0m",
      "\u001b[0;31mModuleNotFoundError\u001b[0m: No module named 'skimage'"
     ]
    }
   ],
   "source": [
    "import numpy as np\n",
    "# import pandas as pd\n",
    "import cv2\n",
    "import os\n",
    "import glob\n",
    "import sys\n",
    "import itertools\n",
    "import matplotlib.pyplot as plt\n",
    "from scipy import ndimage\n",
    "from skimage.segmentation import active_contour\n"
   ]
  },
  {
   "cell_type": "code",
   "execution_count": 0,
   "metadata": {},
   "outputs": [],
   "source": [
    "class IMG_list:\n",
    "    def __init__(self, path):\n",
    "        self.path = path\n",
    "\n",
    "\n",
    "    def List(path):\n",
    "        img_list=[]\n",
    "        img_paths=[]\n",
    "        for r,d, f in os.walk(path):\n",
    "            for names in d:\n",
    "                if names.endswith('img'):\n",
    "                    for root, dir, files in os.walk(names):\n",
    "                        if dir !=[]:\n",
    "                            os.chdir(os.path.join(str(path),str(names), str(dir[0])))\n",
    "                            path=os.getcwd()             \n",
    "                            for r,d,f in os.walk(path):\n",
    "                                for files in f:\n",
    "                                    if files.endswith('.bmp'):\n",
    "                                        img_list.append(os.path.join(str(r),str(files)))\n",
    "        return (img_list)\n"
   ]
  },
  {
   "cell_type": "code",
   "execution_count": 0,
   "metadata": {},
   "outputs": [],
   "source": [
    "class Preprocessing:\n",
    "    def PrePro(img):\n",
    "        cv2.imshow('immagine',img)\n",
    "        cv2.waitKey(0)  \n",
    "        cv2.destroyAllWindows()\n",
    "        image = img.copy()\n",
    "        # blur image\n",
    "        image = cv2.GaussianBlur(image, (5, 5), 0)\n",
    "        # Applying CLAHE to resolve uneven illumination\n",
    "        hsv = cv2.cvtColor(image, cv2.COLOR_BGR2HSV)\n",
    "        clahe = cv2.createCLAHE(clipLimit=3.0, tileGridSize=(8, 8))\n",
    "        hsv[:, :, 2] = clahe.apply(hsv[:, :, 2])\n",
    "        image = cv2.cvtColor(hsv, cv2.COLOR_HSV2BGR)\n",
    "        kernel = np.ones((11, 11), np.uint8)\n",
    "        for i in range(image.shape[-1]):\n",
    "            image[:, :, i] = cv2.morphologyEx(\n",
    "            image[:, :, i],\n",
    "            cv2.MORPH_CLOSE, kernel)\n",
    "        hsv_image = cv2.cvtColor(image, cv2.COLOR_BGR2HSV)\n",
    "        cv2.imshow('hsv', hsv_image)\n",
    "        cv2.waitKey(0)\n",
    "        return (hsv_image)\n",
    "                \n",
    "    def Lines(img,Open):            #Funzione per cercare di disegnare i contorni del neo\n",
    "        \n",
    "\n",
    "        new_img=img.copy()\n",
    "        gray= cv2.cvtColor(new_img, cv2.COLOR_RGB2GRAY)\n",
    "        for i in range (0,5):\n",
    "            new_img = cv2.medianBlur(gray, 27)\n",
    "        cv2.imshow('Blurred', new_img)\n",
    "        cv2.waitKey(0)\n",
    "        ret2,thresh2 = cv2.threshold(new_img,127,255,cv2.THRESH_BINARY_INV)\n",
    "        ret, thresh = cv2.threshold(thresh2, 170, 180, 0)\n",
    "        contours, hierarchy = cv2.findContours(thresh, cv2.RETR_EXTERNAL , cv2.CHAIN_APPROX_SIMPLE)\n",
    "        \n",
    "        cv2.drawContours(new_img, contours,-1,(0,255,253),thickness=3)\n",
    "        cv2.imshow('Snake', new_img)\n",
    "        cv2.waitKey(0)\n",
    "        # Isolate largest contour\n",
    "        contour_sizes = [(cv2.contourArea(contour), contour) for contour in contours]\n",
    "        biggest_contour = max(contour_sizes, key=lambda x: x[0])[1]\n",
    "      \n",
    "        mask = np.zeros(img.shape, np.uint8)\n",
    "\n",
    "        cv2.drawContours(mask, [biggest_contour], -1, 255, -1)\n",
    "\n",
    "        cv2.waitKey(0)\n",
    "        cv2.imshow('mask', mask)\n",
    "        cv2.waitKey(0)\n",
    "     "
   ]
  },
  {
   "cell_type": "code",
   "execution_count": 0,
   "metadata": {},
   "outputs": [],
   "source": [
    "path=os.getcwd()\n",
    "mystring=IMG_list.List(path)\n",
    "processing=Preprocessing()\n",
    "iterations=3\n",
    "for names in mystring:\n",
    "    img=cv2.imread(names)\n",
    "    Open=Preprocessing.PrePro(img)\n",
    "    Preprocessing.Lines(img, Open)\n",
    "    #centro=Preprocessing.Center(img)\n",
    "    #for u in range(len(centro[0])):\n",
    "    #    punti=Preprocessing.Cerchio(1000,centro[0][u],centro[1])[:-1]\n",
    "     #   snake = active_contour(img, punti)\n",
    "      #  cv2.polylines(img, np.int32([snake]), True, (0,255,255), 3)\n",
    "       # cv2.imshow('Snake', img)\n",
    "        #cv2.waitKey(0)\n",
    "        #cv2.destroyAllWindows()"
   ]
  }
 ],
 "metadata": {
  "file_extension": ".py",
  "kernelspec": {
   "display_name": "Python 3",
   "language": "python",
   "name": "python3"
  },
  "language_info": {
   "codemirror_mode": {
    "name": "ipython",
    "version": 3
   },
   "file_extension": ".py",
   "mimetype": "text/x-python",
   "name": "python",
   "nbconvert_exporter": "python",
   "pygments_lexer": "ipython3",
   "version": "3.7.5"
  },
  "mimetype": "text/x-python",
  "name": "python",
  "npconvert_exporter": "python",
  "pygments_lexer": "ipython3",
  "varInspector": {
   "cols": {
    "lenName": 16,
    "lenType": 16,
    "lenVar": 40
   },
   "kernels_config": {
    "python": {
     "delete_cmd_postfix": "",
     "delete_cmd_prefix": "del ",
     "library": "var_list.py",
     "varRefreshCmd": "print(var_dic_list())"
    },
    "r": {
     "delete_cmd_postfix": ") ",
     "delete_cmd_prefix": "rm(",
     "library": "var_list.r",
     "varRefreshCmd": "cat(var_dic_list()) "
    }
   },
   "types_to_exclude": [
    "module",
    "function",
    "builtin_function_or_method",
    "instance",
    "_Feature"
   ],
   "window_display": false
  },
  "version": 3
 },
 "nbformat": 4,
 "nbformat_minor": 2
}
