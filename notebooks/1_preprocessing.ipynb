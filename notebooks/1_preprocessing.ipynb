{
 "cells": [
  {
   "cell_type": "markdown",
   "metadata": {},
   "source": [
    "Apertura di immagini multiple"
   ]
  },
  {
   "cell_type": "code",
   "execution_count": 1,
   "metadata": {},
   "outputs": [],
   "source": [
    "import os, cv2\n",
    "import numpy, numpy.ma\n",
    "import matplotlib\n",
    "from matplotlib import pyplot as plt\n"
   ]
  },
  {
   "cell_type": "code",
   "execution_count": 2,
   "metadata": {},
   "outputs": [],
   "source": [
    "def Histogram (grey, mask=None):\n",
    "        channel=[0]\n",
    "        hist=cv2.calcHist([grey], channels=[0], mask=None, histSize=[256], ranges=[0,256])\n",
    "        plt.plot(hist) \n",
    "        plt.show()\n",
    "        return (hist)"
   ]
  },
  {
   "cell_type": "code",
   "execution_count": 6,
   "metadata": {},
   "outputs": [],
   "source": [
    "def Gradienti (img, grey):\n",
    "        laplacian64=cv2.Laplacian(img, cv2.CV_64F)\n",
    "        laplacian=numpy.unit8(numpy.absolute(laplacian64))\n",
    "        sobelx64 = cv2.Sobel(img, cv2.CV_64F,1,0,ksize=5)\n",
    "        sbobelx=numpy.unit8(numpy.absolute(sobelx64))\n",
    "        sobely64 =cv2.Sobel(img,cv2.CV_64F, 0,1, ksize=5)\n",
    "        sobely=numpy.unit8(numpy.absolute(sobely64))\n",
    "\n",
    "        matplotlib.pyplot.subplot(2,2,1)\n",
    "        matplotlib.pyplot.imshow(grey, cmap='gray')\n",
    "        matplotlib.pyplot.title('Original')\n",
    "        matplotlib.pyplot.xticks([])\n",
    "        matplotlib.pyplot.yticks([])\n",
    "        matplotlib.pyplot.subplot(2,2,2)\n",
    "        matplotlib.pyplot.imshow(laplacian,cmap='gray')\n",
    "        matplotlib.pyplot.title('Laplacian')\n",
    "        matplotlib.pyplot.xticks([])\n",
    "        matplotlib.pyplot.yticks([])\n",
    "        matplotlib.pyplot.subplot(2,2,3)\n",
    "        matplotlib.pyplot.imshow(sobelx,cmap='gray')\n",
    "        matplotlib.pyplot.title('Sobel X')\n",
    "        matplotlib.pyplot.xticks([])\n",
    "        matplotlib.pyplot.yticks([])\n",
    "        matplotlib.pyplot.subplot(2,2,4)\n",
    "        matplotlib.pyplot.imshow(sobely,cmap='gray')\n",
    "        matplotlib.pyplot.title('Sobel Y')\n",
    "        matplotlib.pyplot.xticks([])\n",
    "        matplotlib.pyplot.yticks([])\n",
    "        matplotlib.pyplot.show()\n",
    "        #Controllo directory di lavoro. "
   ]
  },
  {
   "cell_type": "code",
   "execution_count": null,
   "metadata": {},
   "outputs": [],
   "source": [
    "mypath=os.getcwd()  #Attualmente sto lavorando sul Desktop\n",
    "newfolder=[]\n",
    "for nome in os.listdir(mypath): #Elenco di cartelle presenti nella CDirectory\n",
    "        if os.path.isdir(os.path.join(mypath, nome)):#Controllo sulle sole cartelle\n",
    "         if nome !='\\n':\n",
    "             newfolder=newfolder+list({nome})\n",
    "             print(newfolder) #Stampo nome a video      "
   ]
  },
  {
   "cell_type": "code",
   "execution_count": 7,
   "metadata": {},
   "outputs": [
    {
     "ename": "NameError",
     "evalue": "name 'percorso' is not defined",
     "output_type": "error",
     "traceback": [
      "\u001b[0;31m---------------------------------------------------------------------------\u001b[0m",
      "\u001b[0;31mNameError\u001b[0m                                 Traceback (most recent call last)",
      "\u001b[0;32m<ipython-input-7-3e74e228c319>\u001b[0m in \u001b[0;36m<module>\u001b[0;34m\u001b[0m\n\u001b[1;32m     16\u001b[0m                 \u001b[0;32mbreak\u001b[0m\u001b[0;34m\u001b[0m\u001b[0;34m\u001b[0m\u001b[0m\n\u001b[1;32m     17\u001b[0m                 \u001b[0;32mbreak\u001b[0m\u001b[0;34m\u001b[0m\u001b[0;34m\u001b[0m\u001b[0m\n\u001b[0;32m---> 18\u001b[0;31m \u001b[0mprint\u001b[0m\u001b[0;34m(\u001b[0m\u001b[0mpercorso\u001b[0m\u001b[0;34m)\u001b[0m\u001b[0;34m\u001b[0m\u001b[0;34m\u001b[0m\u001b[0m\n\u001b[0m\u001b[1;32m     19\u001b[0m \u001b[0mos\u001b[0m\u001b[0;34m.\u001b[0m\u001b[0mchdir\u001b[0m\u001b[0;34m(\u001b[0m\u001b[0mpercorso\u001b[0m\u001b[0;34m)\u001b[0m\u001b[0;34m\u001b[0m\u001b[0;34m\u001b[0m\u001b[0m\n",
      "\u001b[0;31mNameError\u001b[0m: name 'percorso' is not defined"
     ]
    }
   ],
   "source": [
    "####################################################\n",
    "#Ingresso nella directory designata\n",
    "####################################################\n",
    "imgs=''             \n",
    "for name in newfolder:\n",
    " #i print sono di controllo funzionamento poi spariranno\n",
    "    path=os.path.join(os.getcwd(), str(name))#controllo su ogni nome di folder, unisco alla cwd\n",
    "    files=os.listdir(os.path.join(mypath, name))#vedo i file contenuti dentro ogni directory\n",
    "    for fi in files:\n",
    "            while fi.endswith('jpg'):\n",
    "                imgs=imgs+fi\n",
    "                imgs=imgs+'\\n'\n",
    "                print(fi)\n",
    "                percorso=path\n",
    "                break\n",
    "                break\n",
    "                break\n",
    "print(percorso)\n",
    "os.chdir(percorso)"
   ]
  },
  {
   "cell_type": "code",
   "execution_count": 8,
   "metadata": {},
   "outputs": [],
   "source": [
    "####################################################\n",
    "#Apertura sequenziale immagini\n",
    "####################################################\n",
    "img_list = imgs.strip('][').split('\\n')\n",
    "for k in img_list:\n",
    "        if k!='':      #controllo eccessivo, non serve tanto non andranno aperte\n",
    "                img_path=os.path.join(os.getcwd(),str(k))\n",
    "                img=cv2.imread(str(img_path))\n",
    "                grey=cv2.cvtColor(img,cv2.COLOR_RGB2GRAY)\n",
    "                cv2.imshow(\"Maledetta immagine\",grey)\n",
    "                Histogram(grey)\n",
    "                Gradienti (img, grey)\n",
    "                cv2.waitKey(500)  \n",
    "                cv2.destroyAllWindows()"
   ]
  },
  {
   "cell_type": "code",
   "execution_count": null,
   "metadata": {},
   "outputs": [],
   "source": []
  }
 ],
 "metadata": {
  "kernelspec": {
   "display_name": "Python 3",
   "language": "python",
   "name": "python3"
  },
  "language_info": {
   "codemirror_mode": {
    "name": "ipython",
    "version": 3
   },
   "file_extension": ".py",
   "mimetype": "text/x-python",
   "name": "python",
   "nbconvert_exporter": "python",
   "pygments_lexer": "ipython3",
   "version": "3.7.4"
  },
  "varInspector": {
   "cols": {
    "lenName": 16,
    "lenType": 16,
    "lenVar": 40
   },
   "kernels_config": {
    "python": {
     "delete_cmd_postfix": "",
     "delete_cmd_prefix": "del ",
     "library": "var_list.py",
     "varRefreshCmd": "print(var_dic_list())"
    },
    "r": {
     "delete_cmd_postfix": ") ",
     "delete_cmd_prefix": "rm(",
     "library": "var_list.r",
     "varRefreshCmd": "cat(var_dic_list()) "
    }
   },
   "types_to_exclude": [
    "module",
    "function",
    "builtin_function_or_method",
    "instance",
    "_Feature"
   ],
   "window_display": false
  }
 },
 "nbformat": 4,
 "nbformat_minor": 2
}
